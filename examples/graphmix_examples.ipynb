{
 "cells": [
  {
   "metadata": {},
   "cell_type": "markdown",
   "source": [
    "# `graphmix` examples\n",
    "\n",
    "This notebook provides several examples to demonstrate the usage of\n",
    "the `graphmix` package."
   ],
   "id": "2cd45c9707232780"
  },
  {
   "metadata": {},
   "cell_type": "markdown",
   "source": "## Install `graphmix`",
   "id": "afda654ac2387315"
  },
  {
   "metadata": {},
   "cell_type": "markdown",
   "source": [
    "\n",
    "## Import `graphmix` into your code\n",
    "\n",
    "Graphmix uses a chemical registry to store chemical data. The chemical registry\n",
    "is a SQLite database that stores chemical data from PubChem. By default, the\n",
    "database is located at `~/.graphmix/chemicals.db`. If the database does not exist, \n",
    "it will be created when you first initialize a `ChemicalRegistry` object. You can \n",
    "optionally pass a database path to the `ChemicalRegistry` constructor to specify a \n",
    "different location for the database.\n"
   ],
   "id": "5bbbb4fa3e03abfb"
  },
  {
   "metadata": {
    "ExecuteTime": {
     "end_time": "2024-05-31T19:46:55.860092Z",
     "start_time": "2024-05-31T19:46:55.109729Z"
    }
   },
   "cell_type": "code",
   "source": [
    "%load_ext autoreload\n",
    "%autoreload 2"
   ],
   "id": "c630d9953cb37ce",
   "outputs": [],
   "execution_count": 4
  },
  {
   "metadata": {
    "ExecuteTime": {
     "end_time": "2024-05-31T19:48:49.170614Z",
     "start_time": "2024-05-31T19:48:48.375189Z"
    }
   },
   "cell_type": "code",
   "source": [
    "import graphmix as gm\n",
    "\n",
    "chem_reg = gm.ChemicalRegistry()\n"
   ],
   "id": "8556a793dc339504",
   "outputs": [],
   "execution_count": 6
  },
  {
   "metadata": {},
   "cell_type": "markdown",
   "source": "",
   "id": "782103eba109c030"
  },
  {
   "metadata": {},
   "cell_type": "markdown",
   "source": "## Examples",
   "id": "e33ab99a72b321a4"
  },
  {
   "metadata": {},
   "cell_type": "markdown",
   "source": "### Example 1: Get chemical data from PubChem",
   "id": "24c6d8fbbfc96a76"
  },
  {
   "metadata": {
    "ExecuteTime": {
     "end_time": "2024-05-31T19:47:00.953117Z",
     "start_time": "2024-05-31T19:47:00.478855Z"
    }
   },
   "cell_type": "code",
   "source": [
    "etoh = chem_reg.Chemical('Ethanol')\n",
    "\n",
    "print(etoh)"
   ],
   "id": "f17fa0e6b16e9ea2",
   "outputs": [
    {
     "name": "stdout",
     "output_type": "stream",
     "text": [
      "name='Ethanol' formula='C2H6O' smiles='CCO' molar_mass=<Quantity(46.07, 'gram / mole')> id=None\n"
     ]
    }
   ],
   "execution_count": 5
  },
  {
   "metadata": {},
   "cell_type": "code",
   "outputs": [],
   "execution_count": null,
   "source": "",
   "id": "b6db3217f80099e2"
  }
 ],
 "metadata": {
  "kernelspec": {
   "display_name": "Python 3",
   "language": "python",
   "name": "python3"
  },
  "language_info": {
   "codemirror_mode": {
    "name": "ipython",
    "version": 2
   },
   "file_extension": ".py",
   "mimetype": "text/x-python",
   "name": "python",
   "nbconvert_exporter": "python",
   "pygments_lexer": "ipython2",
   "version": "2.7.6"
  }
 },
 "nbformat": 4,
 "nbformat_minor": 5
}
